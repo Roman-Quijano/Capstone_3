{
 "cells": [
  {
   "cell_type": "markdown",
   "metadata": {},
   "source": [
    "# Documentation of model results"
   ]
  },
  {
   "cell_type": "markdown",
   "metadata": {},
   "source": [
    "I will begin by loading necessary packages and the necessary dataframes"
   ]
  },
  {
   "cell_type": "code",
   "execution_count": 1,
   "metadata": {},
   "outputs": [],
   "source": [
    "# Import necessary packages\n",
    "\n",
    "import pandas as pd\n",
    "import numpy as np"
   ]
  },
  {
   "cell_type": "code",
   "execution_count": 2,
   "metadata": {},
   "outputs": [
    {
     "data": {
      "text/html": [
       "<div>\n",
       "<style scoped>\n",
       "    .dataframe tbody tr th:only-of-type {\n",
       "        vertical-align: middle;\n",
       "    }\n",
       "\n",
       "    .dataframe tbody tr th {\n",
       "        vertical-align: top;\n",
       "    }\n",
       "\n",
       "    .dataframe thead th {\n",
       "        text-align: right;\n",
       "    }\n",
       "</style>\n",
       "<table border=\"1\" class=\"dataframe\">\n",
       "  <thead>\n",
       "    <tr style=\"text-align: right;\">\n",
       "      <th></th>\n",
       "      <th>Year_ID</th>\n",
       "      <th>QTR_ID</th>\n",
       "      <th>Product_Code</th>\n",
       "      <th>Price_Each</th>\n",
       "      <th>Sales</th>\n",
       "      <th>MSRP</th>\n",
       "      <th>Product_Line</th>\n",
       "      <th>Sales_PQ</th>\n",
       "      <th>1</th>\n",
       "      <th>2</th>\n",
       "      <th>...</th>\n",
       "      <th>2003</th>\n",
       "      <th>2004</th>\n",
       "      <th>2005</th>\n",
       "      <th>Classic Cars</th>\n",
       "      <th>Motorcycles</th>\n",
       "      <th>Planes</th>\n",
       "      <th>Ships</th>\n",
       "      <th>Trains</th>\n",
       "      <th>Trucks and Buses</th>\n",
       "      <th>Vintage Cars</th>\n",
       "    </tr>\n",
       "  </thead>\n",
       "  <tbody>\n",
       "    <tr>\n",
       "      <th>0</th>\n",
       "      <td>2003</td>\n",
       "      <td>2</td>\n",
       "      <td>S10_1678</td>\n",
       "      <td>81.35</td>\n",
       "      <td>2765.90</td>\n",
       "      <td>95</td>\n",
       "      <td>Motorcycles</td>\n",
       "      <td>2871.00</td>\n",
       "      <td>0</td>\n",
       "      <td>1</td>\n",
       "      <td>...</td>\n",
       "      <td>1</td>\n",
       "      <td>0</td>\n",
       "      <td>0</td>\n",
       "      <td>0</td>\n",
       "      <td>1</td>\n",
       "      <td>0</td>\n",
       "      <td>0</td>\n",
       "      <td>0</td>\n",
       "      <td>0</td>\n",
       "      <td>0</td>\n",
       "    </tr>\n",
       "    <tr>\n",
       "      <th>1</th>\n",
       "      <td>2003</td>\n",
       "      <td>2</td>\n",
       "      <td>S10_1949</td>\n",
       "      <td>192.87</td>\n",
       "      <td>7329.06</td>\n",
       "      <td>214</td>\n",
       "      <td>Classic Cars</td>\n",
       "      <td>12613.73</td>\n",
       "      <td>0</td>\n",
       "      <td>1</td>\n",
       "      <td>...</td>\n",
       "      <td>1</td>\n",
       "      <td>0</td>\n",
       "      <td>0</td>\n",
       "      <td>1</td>\n",
       "      <td>0</td>\n",
       "      <td>0</td>\n",
       "      <td>0</td>\n",
       "      <td>0</td>\n",
       "      <td>0</td>\n",
       "      <td>0</td>\n",
       "    </tr>\n",
       "    <tr>\n",
       "      <th>2</th>\n",
       "      <td>2003</td>\n",
       "      <td>2</td>\n",
       "      <td>S10_2016</td>\n",
       "      <td>96.34</td>\n",
       "      <td>2793.86</td>\n",
       "      <td>118</td>\n",
       "      <td>Motorcycles</td>\n",
       "      <td>3896.49</td>\n",
       "      <td>0</td>\n",
       "      <td>1</td>\n",
       "      <td>...</td>\n",
       "      <td>1</td>\n",
       "      <td>0</td>\n",
       "      <td>0</td>\n",
       "      <td>0</td>\n",
       "      <td>1</td>\n",
       "      <td>0</td>\n",
       "      <td>0</td>\n",
       "      <td>0</td>\n",
       "      <td>0</td>\n",
       "      <td>0</td>\n",
       "    </tr>\n",
       "    <tr>\n",
       "      <th>3</th>\n",
       "      <td>2003</td>\n",
       "      <td>2</td>\n",
       "      <td>S10_4698</td>\n",
       "      <td>201.41</td>\n",
       "      <td>9264.86</td>\n",
       "      <td>193</td>\n",
       "      <td>Motorcycles</td>\n",
       "      <td>6065.55</td>\n",
       "      <td>0</td>\n",
       "      <td>1</td>\n",
       "      <td>...</td>\n",
       "      <td>1</td>\n",
       "      <td>0</td>\n",
       "      <td>0</td>\n",
       "      <td>0</td>\n",
       "      <td>1</td>\n",
       "      <td>0</td>\n",
       "      <td>0</td>\n",
       "      <td>0</td>\n",
       "      <td>0</td>\n",
       "      <td>0</td>\n",
       "    </tr>\n",
       "    <tr>\n",
       "      <th>4</th>\n",
       "      <td>2003</td>\n",
       "      <td>2</td>\n",
       "      <td>S10_4757</td>\n",
       "      <td>121.04</td>\n",
       "      <td>9403.04</td>\n",
       "      <td>136</td>\n",
       "      <td>Classic Cars</td>\n",
       "      <td>7208.00</td>\n",
       "      <td>0</td>\n",
       "      <td>1</td>\n",
       "      <td>...</td>\n",
       "      <td>1</td>\n",
       "      <td>0</td>\n",
       "      <td>0</td>\n",
       "      <td>1</td>\n",
       "      <td>0</td>\n",
       "      <td>0</td>\n",
       "      <td>0</td>\n",
       "      <td>0</td>\n",
       "      <td>0</td>\n",
       "      <td>0</td>\n",
       "    </tr>\n",
       "  </tbody>\n",
       "</table>\n",
       "<p>5 rows × 22 columns</p>\n",
       "</div>"
      ],
      "text/plain": [
       "   Year_ID  QTR_ID Product_Code  Price_Each    Sales  MSRP  Product_Line  \\\n",
       "0     2003       2     S10_1678       81.35  2765.90    95   Motorcycles   \n",
       "1     2003       2     S10_1949      192.87  7329.06   214  Classic Cars   \n",
       "2     2003       2     S10_2016       96.34  2793.86   118   Motorcycles   \n",
       "3     2003       2     S10_4698      201.41  9264.86   193   Motorcycles   \n",
       "4     2003       2     S10_4757      121.04  9403.04   136  Classic Cars   \n",
       "\n",
       "   Sales_PQ  1  2  ...  2003  2004  2005  Classic Cars  Motorcycles  Planes  \\\n",
       "0   2871.00  0  1  ...     1     0     0             0            1       0   \n",
       "1  12613.73  0  1  ...     1     0     0             1            0       0   \n",
       "2   3896.49  0  1  ...     1     0     0             0            1       0   \n",
       "3   6065.55  0  1  ...     1     0     0             0            1       0   \n",
       "4   7208.00  0  1  ...     1     0     0             1            0       0   \n",
       "\n",
       "   Ships  Trains  Trucks and Buses  Vintage Cars  \n",
       "0      0       0                 0             0  \n",
       "1      0       0                 0             0  \n",
       "2      0       0                 0             0  \n",
       "3      0       0                 0             0  \n",
       "4      0       0                 0             0  \n",
       "\n",
       "[5 rows x 22 columns]"
      ]
     },
     "execution_count": 2,
     "metadata": {},
     "output_type": "execute_result"
    }
   ],
   "source": [
    "# Load aggregated data with dummy variables\n",
    "\n",
    "df = pd.read_csv(r'C:\\Users\\bronc\\Downloads\\Capstone 3\\Aggregated_Dummy_Data')\n",
    "df.head()"
   ]
  },
  {
   "cell_type": "code",
   "execution_count": 3,
   "metadata": {},
   "outputs": [
    {
     "data": {
      "text/html": [
       "<div>\n",
       "<style scoped>\n",
       "    .dataframe tbody tr th:only-of-type {\n",
       "        vertical-align: middle;\n",
       "    }\n",
       "\n",
       "    .dataframe tbody tr th {\n",
       "        vertical-align: top;\n",
       "    }\n",
       "\n",
       "    .dataframe thead th {\n",
       "        text-align: right;\n",
       "    }\n",
       "</style>\n",
       "<table border=\"1\" class=\"dataframe\">\n",
       "  <thead>\n",
       "    <tr style=\"text-align: right;\">\n",
       "      <th></th>\n",
       "      <th>Year_ID</th>\n",
       "      <th>QTR_ID</th>\n",
       "      <th>Product_Code</th>\n",
       "      <th>Price_Each</th>\n",
       "      <th>Sales</th>\n",
       "      <th>MSRP</th>\n",
       "      <th>Product_Line</th>\n",
       "      <th>Sales_PQ</th>\n",
       "    </tr>\n",
       "  </thead>\n",
       "  <tbody>\n",
       "    <tr>\n",
       "      <th>0</th>\n",
       "      <td>2003</td>\n",
       "      <td>2</td>\n",
       "      <td>S10_1678</td>\n",
       "      <td>81.35</td>\n",
       "      <td>2765.90</td>\n",
       "      <td>95</td>\n",
       "      <td>Motorcycles</td>\n",
       "      <td>2871.00</td>\n",
       "    </tr>\n",
       "    <tr>\n",
       "      <th>1</th>\n",
       "      <td>2003</td>\n",
       "      <td>2</td>\n",
       "      <td>S10_1949</td>\n",
       "      <td>192.87</td>\n",
       "      <td>7329.06</td>\n",
       "      <td>214</td>\n",
       "      <td>Classic Cars</td>\n",
       "      <td>12613.73</td>\n",
       "    </tr>\n",
       "    <tr>\n",
       "      <th>2</th>\n",
       "      <td>2003</td>\n",
       "      <td>2</td>\n",
       "      <td>S10_2016</td>\n",
       "      <td>96.34</td>\n",
       "      <td>2793.86</td>\n",
       "      <td>118</td>\n",
       "      <td>Motorcycles</td>\n",
       "      <td>3896.49</td>\n",
       "    </tr>\n",
       "    <tr>\n",
       "      <th>3</th>\n",
       "      <td>2003</td>\n",
       "      <td>2</td>\n",
       "      <td>S10_4698</td>\n",
       "      <td>201.41</td>\n",
       "      <td>9264.86</td>\n",
       "      <td>193</td>\n",
       "      <td>Motorcycles</td>\n",
       "      <td>6065.55</td>\n",
       "    </tr>\n",
       "    <tr>\n",
       "      <th>4</th>\n",
       "      <td>2003</td>\n",
       "      <td>2</td>\n",
       "      <td>S10_4757</td>\n",
       "      <td>121.04</td>\n",
       "      <td>9403.04</td>\n",
       "      <td>136</td>\n",
       "      <td>Classic Cars</td>\n",
       "      <td>7208.00</td>\n",
       "    </tr>\n",
       "  </tbody>\n",
       "</table>\n",
       "</div>"
      ],
      "text/plain": [
       "   Year_ID  QTR_ID Product_Code  Price_Each    Sales  MSRP  Product_Line  \\\n",
       "0     2003       2     S10_1678       81.35  2765.90    95   Motorcycles   \n",
       "1     2003       2     S10_1949      192.87  7329.06   214  Classic Cars   \n",
       "2     2003       2     S10_2016       96.34  2793.86   118   Motorcycles   \n",
       "3     2003       2     S10_4698      201.41  9264.86   193   Motorcycles   \n",
       "4     2003       2     S10_4757      121.04  9403.04   136  Classic Cars   \n",
       "\n",
       "   Sales_PQ  \n",
       "0   2871.00  \n",
       "1  12613.73  \n",
       "2   3896.49  \n",
       "3   6065.55  \n",
       "4   7208.00  "
      ]
     },
     "execution_count": 3,
     "metadata": {},
     "output_type": "execute_result"
    }
   ],
   "source": [
    "# Load aggregated data\n",
    "\n",
    "df_agg = pd.read_csv(r'C:\\Users\\bronc\\Downloads\\Capstone 3\\Aggregated_Data.csv')\n",
    "df_agg.head()"
   ]
  },
  {
   "cell_type": "code",
   "execution_count": 4,
   "metadata": {},
   "outputs": [
    {
     "data": {
      "text/html": [
       "<div>\n",
       "<style scoped>\n",
       "    .dataframe tbody tr th:only-of-type {\n",
       "        vertical-align: middle;\n",
       "    }\n",
       "\n",
       "    .dataframe tbody tr th {\n",
       "        vertical-align: top;\n",
       "    }\n",
       "\n",
       "    .dataframe thead th {\n",
       "        text-align: right;\n",
       "    }\n",
       "</style>\n",
       "<table border=\"1\" class=\"dataframe\">\n",
       "  <thead>\n",
       "    <tr style=\"text-align: right;\">\n",
       "      <th></th>\n",
       "      <th>Price_Each</th>\n",
       "      <th>Sales_PQ</th>\n",
       "      <th>MSRP</th>\n",
       "      <th>1</th>\n",
       "      <th>2</th>\n",
       "      <th>3</th>\n",
       "      <th>4</th>\n",
       "      <th>2003</th>\n",
       "      <th>2004</th>\n",
       "      <th>2005</th>\n",
       "      <th>Classic Cars</th>\n",
       "      <th>Motorcycles</th>\n",
       "      <th>Planes</th>\n",
       "      <th>Ships</th>\n",
       "      <th>Trains</th>\n",
       "      <th>Trucks and Buses</th>\n",
       "      <th>Vintage Cars</th>\n",
       "      <th>Sales</th>\n",
       "    </tr>\n",
       "  </thead>\n",
       "  <tbody>\n",
       "    <tr>\n",
       "      <th>0</th>\n",
       "      <td>55.635000</td>\n",
       "      <td>3940.23</td>\n",
       "      <td>95</td>\n",
       "      <td>0</td>\n",
       "      <td>1</td>\n",
       "      <td>0</td>\n",
       "      <td>0</td>\n",
       "      <td>0</td>\n",
       "      <td>0</td>\n",
       "      <td>1</td>\n",
       "      <td>0</td>\n",
       "      <td>1</td>\n",
       "      <td>0</td>\n",
       "      <td>0</td>\n",
       "      <td>0</td>\n",
       "      <td>0</td>\n",
       "      <td>0</td>\n",
       "      <td>2986.176933</td>\n",
       "    </tr>\n",
       "    <tr>\n",
       "      <th>1</th>\n",
       "      <td>146.703333</td>\n",
       "      <td>15186.28</td>\n",
       "      <td>214</td>\n",
       "      <td>0</td>\n",
       "      <td>1</td>\n",
       "      <td>0</td>\n",
       "      <td>0</td>\n",
       "      <td>0</td>\n",
       "      <td>0</td>\n",
       "      <td>1</td>\n",
       "      <td>1</td>\n",
       "      <td>0</td>\n",
       "      <td>0</td>\n",
       "      <td>0</td>\n",
       "      <td>0</td>\n",
       "      <td>0</td>\n",
       "      <td>0</td>\n",
       "      <td>15722.280593</td>\n",
       "    </tr>\n",
       "    <tr>\n",
       "      <th>2</th>\n",
       "      <td>90.050000</td>\n",
       "      <td>7513.51</td>\n",
       "      <td>118</td>\n",
       "      <td>0</td>\n",
       "      <td>1</td>\n",
       "      <td>0</td>\n",
       "      <td>0</td>\n",
       "      <td>0</td>\n",
       "      <td>0</td>\n",
       "      <td>1</td>\n",
       "      <td>0</td>\n",
       "      <td>1</td>\n",
       "      <td>0</td>\n",
       "      <td>0</td>\n",
       "      <td>0</td>\n",
       "      <td>0</td>\n",
       "      <td>0</td>\n",
       "      <td>7313.264290</td>\n",
       "    </tr>\n",
       "    <tr>\n",
       "      <th>3</th>\n",
       "      <td>142.536667</td>\n",
       "      <td>9320.65</td>\n",
       "      <td>193</td>\n",
       "      <td>0</td>\n",
       "      <td>1</td>\n",
       "      <td>0</td>\n",
       "      <td>0</td>\n",
       "      <td>0</td>\n",
       "      <td>0</td>\n",
       "      <td>1</td>\n",
       "      <td>0</td>\n",
       "      <td>1</td>\n",
       "      <td>0</td>\n",
       "      <td>0</td>\n",
       "      <td>0</td>\n",
       "      <td>0</td>\n",
       "      <td>0</td>\n",
       "      <td>10640.322830</td>\n",
       "    </tr>\n",
       "    <tr>\n",
       "      <th>4</th>\n",
       "      <td>117.210000</td>\n",
       "      <td>12263.51</td>\n",
       "      <td>136</td>\n",
       "      <td>0</td>\n",
       "      <td>1</td>\n",
       "      <td>0</td>\n",
       "      <td>0</td>\n",
       "      <td>0</td>\n",
       "      <td>0</td>\n",
       "      <td>1</td>\n",
       "      <td>1</td>\n",
       "      <td>0</td>\n",
       "      <td>0</td>\n",
       "      <td>0</td>\n",
       "      <td>0</td>\n",
       "      <td>0</td>\n",
       "      <td>0</td>\n",
       "      <td>10531.051761</td>\n",
       "    </tr>\n",
       "  </tbody>\n",
       "</table>\n",
       "</div>"
      ],
      "text/plain": [
       "   Price_Each  Sales_PQ  MSRP  1  2  3  4  2003  2004  2005  Classic Cars  \\\n",
       "0   55.635000   3940.23    95  0  1  0  0     0     0     1             0   \n",
       "1  146.703333  15186.28   214  0  1  0  0     0     0     1             1   \n",
       "2   90.050000   7513.51   118  0  1  0  0     0     0     1             0   \n",
       "3  142.536667   9320.65   193  0  1  0  0     0     0     1             0   \n",
       "4  117.210000  12263.51   136  0  1  0  0     0     0     1             1   \n",
       "\n",
       "   Motorcycles  Planes  Ships  Trains  Trucks and Buses  Vintage Cars  \\\n",
       "0            1       0      0       0                 0             0   \n",
       "1            0       0      0       0                 0             0   \n",
       "2            1       0      0       0                 0             0   \n",
       "3            1       0      0       0                 0             0   \n",
       "4            0       0      0       0                 0             0   \n",
       "\n",
       "          Sales  \n",
       "0   2986.176933  \n",
       "1  15722.280593  \n",
       "2   7313.264290  \n",
       "3  10640.322830  \n",
       "4  10531.051761  "
      ]
     },
     "execution_count": 4,
     "metadata": {},
     "output_type": "execute_result"
    }
   ],
   "source": [
    "# Load test data\n",
    "\n",
    "df_final = pd.read_csv(r'C:\\Users\\bronc\\Downloads\\Capstone 3\\Final_Test_Data')\n",
    "df_final.head()"
   ]
  },
  {
   "cell_type": "markdown",
   "metadata": {},
   "source": [
    "### Scaling"
   ]
  },
  {
   "cell_type": "markdown",
   "metadata": {},
   "source": [
    "For this part I'll be using sklearn's StandardScaler"
   ]
  },
  {
   "cell_type": "code",
   "execution_count": 5,
   "metadata": {},
   "outputs": [],
   "source": [
    "from sklearn.preprocessing import StandardScaler\n",
    "\n",
    "scaler = StandardScaler()"
   ]
  },
  {
   "cell_type": "markdown",
   "metadata": {},
   "source": [
    "Next I'll create the subset of our data that the model will be using and assign it to X"
   ]
  },
  {
   "cell_type": "code",
   "execution_count": 6,
   "metadata": {},
   "outputs": [],
   "source": [
    "# Set up X\n",
    "X = df.drop('Sales', axis=1)"
   ]
  },
  {
   "cell_type": "code",
   "execution_count": 7,
   "metadata": {},
   "outputs": [
    {
     "data": {
      "text/html": [
       "<div>\n",
       "<style scoped>\n",
       "    .dataframe tbody tr th:only-of-type {\n",
       "        vertical-align: middle;\n",
       "    }\n",
       "\n",
       "    .dataframe tbody tr th {\n",
       "        vertical-align: top;\n",
       "    }\n",
       "\n",
       "    .dataframe thead th {\n",
       "        text-align: right;\n",
       "    }\n",
       "</style>\n",
       "<table border=\"1\" class=\"dataframe\">\n",
       "  <thead>\n",
       "    <tr style=\"text-align: right;\">\n",
       "      <th></th>\n",
       "      <th>Year_ID</th>\n",
       "      <th>QTR_ID</th>\n",
       "      <th>Product_Code</th>\n",
       "      <th>Price_Each</th>\n",
       "      <th>MSRP</th>\n",
       "      <th>Product_Line</th>\n",
       "      <th>Sales_PQ</th>\n",
       "      <th>1</th>\n",
       "      <th>2</th>\n",
       "      <th>3</th>\n",
       "      <th>...</th>\n",
       "      <th>2003</th>\n",
       "      <th>2004</th>\n",
       "      <th>2005</th>\n",
       "      <th>Classic Cars</th>\n",
       "      <th>Motorcycles</th>\n",
       "      <th>Planes</th>\n",
       "      <th>Ships</th>\n",
       "      <th>Trains</th>\n",
       "      <th>Trucks and Buses</th>\n",
       "      <th>Vintage Cars</th>\n",
       "    </tr>\n",
       "  </thead>\n",
       "  <tbody>\n",
       "    <tr>\n",
       "      <th>0</th>\n",
       "      <td>2003</td>\n",
       "      <td>2</td>\n",
       "      <td>S10_1678</td>\n",
       "      <td>81.35</td>\n",
       "      <td>95</td>\n",
       "      <td>Motorcycles</td>\n",
       "      <td>2871.00</td>\n",
       "      <td>0</td>\n",
       "      <td>1</td>\n",
       "      <td>0</td>\n",
       "      <td>...</td>\n",
       "      <td>1</td>\n",
       "      <td>0</td>\n",
       "      <td>0</td>\n",
       "      <td>0</td>\n",
       "      <td>1</td>\n",
       "      <td>0</td>\n",
       "      <td>0</td>\n",
       "      <td>0</td>\n",
       "      <td>0</td>\n",
       "      <td>0</td>\n",
       "    </tr>\n",
       "    <tr>\n",
       "      <th>1</th>\n",
       "      <td>2003</td>\n",
       "      <td>2</td>\n",
       "      <td>S10_1949</td>\n",
       "      <td>192.87</td>\n",
       "      <td>214</td>\n",
       "      <td>Classic Cars</td>\n",
       "      <td>12613.73</td>\n",
       "      <td>0</td>\n",
       "      <td>1</td>\n",
       "      <td>0</td>\n",
       "      <td>...</td>\n",
       "      <td>1</td>\n",
       "      <td>0</td>\n",
       "      <td>0</td>\n",
       "      <td>1</td>\n",
       "      <td>0</td>\n",
       "      <td>0</td>\n",
       "      <td>0</td>\n",
       "      <td>0</td>\n",
       "      <td>0</td>\n",
       "      <td>0</td>\n",
       "    </tr>\n",
       "    <tr>\n",
       "      <th>2</th>\n",
       "      <td>2003</td>\n",
       "      <td>2</td>\n",
       "      <td>S10_2016</td>\n",
       "      <td>96.34</td>\n",
       "      <td>118</td>\n",
       "      <td>Motorcycles</td>\n",
       "      <td>3896.49</td>\n",
       "      <td>0</td>\n",
       "      <td>1</td>\n",
       "      <td>0</td>\n",
       "      <td>...</td>\n",
       "      <td>1</td>\n",
       "      <td>0</td>\n",
       "      <td>0</td>\n",
       "      <td>0</td>\n",
       "      <td>1</td>\n",
       "      <td>0</td>\n",
       "      <td>0</td>\n",
       "      <td>0</td>\n",
       "      <td>0</td>\n",
       "      <td>0</td>\n",
       "    </tr>\n",
       "    <tr>\n",
       "      <th>3</th>\n",
       "      <td>2003</td>\n",
       "      <td>2</td>\n",
       "      <td>S10_4698</td>\n",
       "      <td>201.41</td>\n",
       "      <td>193</td>\n",
       "      <td>Motorcycles</td>\n",
       "      <td>6065.55</td>\n",
       "      <td>0</td>\n",
       "      <td>1</td>\n",
       "      <td>0</td>\n",
       "      <td>...</td>\n",
       "      <td>1</td>\n",
       "      <td>0</td>\n",
       "      <td>0</td>\n",
       "      <td>0</td>\n",
       "      <td>1</td>\n",
       "      <td>0</td>\n",
       "      <td>0</td>\n",
       "      <td>0</td>\n",
       "      <td>0</td>\n",
       "      <td>0</td>\n",
       "    </tr>\n",
       "    <tr>\n",
       "      <th>4</th>\n",
       "      <td>2003</td>\n",
       "      <td>2</td>\n",
       "      <td>S10_4757</td>\n",
       "      <td>121.04</td>\n",
       "      <td>136</td>\n",
       "      <td>Classic Cars</td>\n",
       "      <td>7208.00</td>\n",
       "      <td>0</td>\n",
       "      <td>1</td>\n",
       "      <td>0</td>\n",
       "      <td>...</td>\n",
       "      <td>1</td>\n",
       "      <td>0</td>\n",
       "      <td>0</td>\n",
       "      <td>1</td>\n",
       "      <td>0</td>\n",
       "      <td>0</td>\n",
       "      <td>0</td>\n",
       "      <td>0</td>\n",
       "      <td>0</td>\n",
       "      <td>0</td>\n",
       "    </tr>\n",
       "  </tbody>\n",
       "</table>\n",
       "<p>5 rows × 21 columns</p>\n",
       "</div>"
      ],
      "text/plain": [
       "   Year_ID  QTR_ID Product_Code  Price_Each  MSRP  Product_Line  Sales_PQ  1  \\\n",
       "0     2003       2     S10_1678       81.35    95   Motorcycles   2871.00  0   \n",
       "1     2003       2     S10_1949      192.87   214  Classic Cars  12613.73  0   \n",
       "2     2003       2     S10_2016       96.34   118   Motorcycles   3896.49  0   \n",
       "3     2003       2     S10_4698      201.41   193   Motorcycles   6065.55  0   \n",
       "4     2003       2     S10_4757      121.04   136  Classic Cars   7208.00  0   \n",
       "\n",
       "   2  3  ...  2003  2004  2005  Classic Cars  Motorcycles  Planes  Ships  \\\n",
       "0  1  0  ...     1     0     0             0            1       0      0   \n",
       "1  1  0  ...     1     0     0             1            0       0      0   \n",
       "2  1  0  ...     1     0     0             0            1       0      0   \n",
       "3  1  0  ...     1     0     0             0            1       0      0   \n",
       "4  1  0  ...     1     0     0             1            0       0      0   \n",
       "\n",
       "   Trains  Trucks and Buses  Vintage Cars  \n",
       "0       0                 0             0  \n",
       "1       0                 0             0  \n",
       "2       0                 0             0  \n",
       "3       0                 0             0  \n",
       "4       0                 0             0  \n",
       "\n",
       "[5 rows x 21 columns]"
      ]
     },
     "execution_count": 7,
     "metadata": {},
     "output_type": "execute_result"
    }
   ],
   "source": [
    "# Verify X\n",
    "X.head()"
   ]
  },
  {
   "cell_type": "markdown",
   "metadata": {},
   "source": [
    "Next we must drop the categorical variables so that we can scale"
   ]
  },
  {
   "cell_type": "code",
   "execution_count": 8,
   "metadata": {},
   "outputs": [],
   "source": [
    "X.drop(columns = 'Year_ID', inplace = True)\n",
    "X.drop(columns = 'QTR_ID', inplace = True)\n",
    "X.drop(columns = 'Product_Line', inplace = True)\n",
    "X.drop(columns = 'Product_Code', inplace = True)"
   ]
  },
  {
   "cell_type": "markdown",
   "metadata": {},
   "source": [
    "Now that this is all set up its time to scale"
   ]
  },
  {
   "cell_type": "code",
   "execution_count": 9,
   "metadata": {},
   "outputs": [
    {
     "data": {
      "text/plain": [
       "StandardScaler(copy=True, with_mean=True, with_std=True)"
      ]
     },
     "execution_count": 9,
     "metadata": {},
     "output_type": "execute_result"
    }
   ],
   "source": [
    "scaler.fit(X)"
   ]
  },
  {
   "cell_type": "code",
   "execution_count": 10,
   "metadata": {},
   "outputs": [],
   "source": [
    "X_scaled = scaler.transform(X)"
   ]
  },
  {
   "cell_type": "markdown",
   "metadata": {},
   "source": [
    "### Train Test Split"
   ]
  },
  {
   "cell_type": "markdown",
   "metadata": {},
   "source": [
    "Next, its time to split the data for our model. First I need to define y as the Sales column"
   ]
  },
  {
   "cell_type": "code",
   "execution_count": 11,
   "metadata": {},
   "outputs": [],
   "source": [
    "y = df[['Sales']]"
   ]
  },
  {
   "cell_type": "markdown",
   "metadata": {},
   "source": [
    "Now to perform the actual split. I'll be using a 70/30 split of training to testing size"
   ]
  },
  {
   "cell_type": "code",
   "execution_count": 12,
   "metadata": {},
   "outputs": [],
   "source": [
    "from sklearn.model_selection import train_test_split\n",
    "\n",
    "X_train, X_test, y_train, y_test = train_test_split(X_scaled, y, test_size = 0.3, random_state = 123)"
   ]
  },
  {
   "cell_type": "markdown",
   "metadata": {},
   "source": [
    "Let's check that that worked by looking at the sizes of the training and test splits"
   ]
  },
  {
   "cell_type": "code",
   "execution_count": 13,
   "metadata": {},
   "outputs": [
    {
     "data": {
      "text/plain": [
       "(606, 17)"
      ]
     },
     "execution_count": 13,
     "metadata": {},
     "output_type": "execute_result"
    }
   ],
   "source": [
    "X_train.shape"
   ]
  },
  {
   "cell_type": "code",
   "execution_count": 14,
   "metadata": {},
   "outputs": [
    {
     "data": {
      "text/plain": [
       "(261, 17)"
      ]
     },
     "execution_count": 14,
     "metadata": {},
     "output_type": "execute_result"
    }
   ],
   "source": [
    "X_test.shape"
   ]
  },
  {
   "cell_type": "code",
   "execution_count": 15,
   "metadata": {},
   "outputs": [
    {
     "data": {
      "text/plain": [
       "0.30103806228373703"
      ]
     },
     "execution_count": 15,
     "metadata": {},
     "output_type": "execute_result"
    }
   ],
   "source": [
    "261/(261+606)"
   ]
  },
  {
   "cell_type": "markdown",
   "metadata": {},
   "source": [
    "This rounds to 30% for our test split so conversely the train split is right around 70%"
   ]
  },
  {
   "cell_type": "markdown",
   "metadata": {},
   "source": [
    "### Model"
   ]
  },
  {
   "cell_type": "markdown",
   "metadata": {},
   "source": [
    "Next I'll implement the model that I discovered to be the most accurate at predicting product revenue"
   ]
  },
  {
   "cell_type": "code",
   "execution_count": 16,
   "metadata": {},
   "outputs": [],
   "source": [
    "# Import RandomForestRegressor\n",
    "from sklearn.ensemble import RandomForestRegressor\n",
    "from sklearn.metrics import r2_score"
   ]
  },
  {
   "cell_type": "code",
   "execution_count": 17,
   "metadata": {},
   "outputs": [
    {
     "name": "stderr",
     "output_type": "stream",
     "text": [
      "C:\\Users\\bronc\\anaconda3\\lib\\site-packages\\ipykernel_launcher.py:3: DataConversionWarning: A column-vector y was passed when a 1d array was expected. Please change the shape of y to (n_samples,), for example using ravel().\n",
      "  This is separate from the ipykernel package so we can avoid doing imports until\n"
     ]
    },
    {
     "data": {
      "text/plain": [
       "RandomForestRegressor(bootstrap=True, ccp_alpha=0.0, criterion='mse',\n",
       "                      max_depth=None, max_features='auto', max_leaf_nodes=None,\n",
       "                      max_samples=None, min_impurity_decrease=0.0,\n",
       "                      min_impurity_split=None, min_samples_leaf=7,\n",
       "                      min_samples_split=10, min_weight_fraction_leaf=0.0,\n",
       "                      n_estimators=100, n_jobs=None, oob_score=False,\n",
       "                      random_state=123, verbose=0, warm_start=False)"
      ]
     },
     "execution_count": 17,
     "metadata": {},
     "output_type": "execute_result"
    }
   ],
   "source": [
    "# Tune parameters and fit model to training data\n",
    "Model2 = RandomForestRegressor(min_samples_leaf = 7, min_samples_split = 10, random_state = 123)\n",
    "Model2.fit(X_train, y_train)"
   ]
  },
  {
   "cell_type": "code",
   "execution_count": 18,
   "metadata": {},
   "outputs": [],
   "source": [
    "# Predict data on test set\n",
    "y_pred = Model2.predict(X_test)"
   ]
  },
  {
   "cell_type": "code",
   "execution_count": 19,
   "metadata": {},
   "outputs": [
    {
     "data": {
      "text/plain": [
       "0.824209546137172"
      ]
     },
     "execution_count": 19,
     "metadata": {},
     "output_type": "execute_result"
    }
   ],
   "source": [
    "# Check r-squared\n",
    "r2_score(y_test, y_pred)"
   ]
  },
  {
   "cell_type": "markdown",
   "metadata": {},
   "source": [
    "### Model Implementation"
   ]
  },
  {
   "cell_type": "markdown",
   "metadata": {},
   "source": [
    "Now that the model has been built its time to use it to predict future data"
   ]
  },
  {
   "cell_type": "code",
   "execution_count": 20,
   "metadata": {},
   "outputs": [
    {
     "data": {
      "text/html": [
       "<div>\n",
       "<style scoped>\n",
       "    .dataframe tbody tr th:only-of-type {\n",
       "        vertical-align: middle;\n",
       "    }\n",
       "\n",
       "    .dataframe tbody tr th {\n",
       "        vertical-align: top;\n",
       "    }\n",
       "\n",
       "    .dataframe thead th {\n",
       "        text-align: right;\n",
       "    }\n",
       "</style>\n",
       "<table border=\"1\" class=\"dataframe\">\n",
       "  <thead>\n",
       "    <tr style=\"text-align: right;\">\n",
       "      <th></th>\n",
       "      <th>Price_Each</th>\n",
       "      <th>Sales_PQ</th>\n",
       "      <th>MSRP</th>\n",
       "      <th>1</th>\n",
       "      <th>2</th>\n",
       "      <th>3</th>\n",
       "      <th>4</th>\n",
       "      <th>2003</th>\n",
       "      <th>2004</th>\n",
       "      <th>2005</th>\n",
       "      <th>Classic Cars</th>\n",
       "      <th>Motorcycles</th>\n",
       "      <th>Planes</th>\n",
       "      <th>Ships</th>\n",
       "      <th>Trains</th>\n",
       "      <th>Trucks and Buses</th>\n",
       "      <th>Vintage Cars</th>\n",
       "      <th>Sales</th>\n",
       "    </tr>\n",
       "  </thead>\n",
       "  <tbody>\n",
       "    <tr>\n",
       "      <th>0</th>\n",
       "      <td>55.635000</td>\n",
       "      <td>3940.23</td>\n",
       "      <td>95</td>\n",
       "      <td>0</td>\n",
       "      <td>1</td>\n",
       "      <td>0</td>\n",
       "      <td>0</td>\n",
       "      <td>0</td>\n",
       "      <td>0</td>\n",
       "      <td>1</td>\n",
       "      <td>0</td>\n",
       "      <td>1</td>\n",
       "      <td>0</td>\n",
       "      <td>0</td>\n",
       "      <td>0</td>\n",
       "      <td>0</td>\n",
       "      <td>0</td>\n",
       "      <td>2986.176933</td>\n",
       "    </tr>\n",
       "    <tr>\n",
       "      <th>1</th>\n",
       "      <td>146.703333</td>\n",
       "      <td>15186.28</td>\n",
       "      <td>214</td>\n",
       "      <td>0</td>\n",
       "      <td>1</td>\n",
       "      <td>0</td>\n",
       "      <td>0</td>\n",
       "      <td>0</td>\n",
       "      <td>0</td>\n",
       "      <td>1</td>\n",
       "      <td>1</td>\n",
       "      <td>0</td>\n",
       "      <td>0</td>\n",
       "      <td>0</td>\n",
       "      <td>0</td>\n",
       "      <td>0</td>\n",
       "      <td>0</td>\n",
       "      <td>15722.280593</td>\n",
       "    </tr>\n",
       "    <tr>\n",
       "      <th>2</th>\n",
       "      <td>90.050000</td>\n",
       "      <td>7513.51</td>\n",
       "      <td>118</td>\n",
       "      <td>0</td>\n",
       "      <td>1</td>\n",
       "      <td>0</td>\n",
       "      <td>0</td>\n",
       "      <td>0</td>\n",
       "      <td>0</td>\n",
       "      <td>1</td>\n",
       "      <td>0</td>\n",
       "      <td>1</td>\n",
       "      <td>0</td>\n",
       "      <td>0</td>\n",
       "      <td>0</td>\n",
       "      <td>0</td>\n",
       "      <td>0</td>\n",
       "      <td>7313.264290</td>\n",
       "    </tr>\n",
       "    <tr>\n",
       "      <th>3</th>\n",
       "      <td>142.536667</td>\n",
       "      <td>9320.65</td>\n",
       "      <td>193</td>\n",
       "      <td>0</td>\n",
       "      <td>1</td>\n",
       "      <td>0</td>\n",
       "      <td>0</td>\n",
       "      <td>0</td>\n",
       "      <td>0</td>\n",
       "      <td>1</td>\n",
       "      <td>0</td>\n",
       "      <td>1</td>\n",
       "      <td>0</td>\n",
       "      <td>0</td>\n",
       "      <td>0</td>\n",
       "      <td>0</td>\n",
       "      <td>0</td>\n",
       "      <td>10640.322830</td>\n",
       "    </tr>\n",
       "    <tr>\n",
       "      <th>4</th>\n",
       "      <td>117.210000</td>\n",
       "      <td>12263.51</td>\n",
       "      <td>136</td>\n",
       "      <td>0</td>\n",
       "      <td>1</td>\n",
       "      <td>0</td>\n",
       "      <td>0</td>\n",
       "      <td>0</td>\n",
       "      <td>0</td>\n",
       "      <td>1</td>\n",
       "      <td>1</td>\n",
       "      <td>0</td>\n",
       "      <td>0</td>\n",
       "      <td>0</td>\n",
       "      <td>0</td>\n",
       "      <td>0</td>\n",
       "      <td>0</td>\n",
       "      <td>10531.051761</td>\n",
       "    </tr>\n",
       "  </tbody>\n",
       "</table>\n",
       "</div>"
      ],
      "text/plain": [
       "   Price_Each  Sales_PQ  MSRP  1  2  3  4  2003  2004  2005  Classic Cars  \\\n",
       "0   55.635000   3940.23    95  0  1  0  0     0     0     1             0   \n",
       "1  146.703333  15186.28   214  0  1  0  0     0     0     1             1   \n",
       "2   90.050000   7513.51   118  0  1  0  0     0     0     1             0   \n",
       "3  142.536667   9320.65   193  0  1  0  0     0     0     1             0   \n",
       "4  117.210000  12263.51   136  0  1  0  0     0     0     1             1   \n",
       "\n",
       "   Motorcycles  Planes  Ships  Trains  Trucks and Buses  Vintage Cars  \\\n",
       "0            1       0      0       0                 0             0   \n",
       "1            0       0      0       0                 0             0   \n",
       "2            1       0      0       0                 0             0   \n",
       "3            1       0      0       0                 0             0   \n",
       "4            0       0      0       0                 0             0   \n",
       "\n",
       "          Sales  \n",
       "0   2986.176933  \n",
       "1  15722.280593  \n",
       "2   7313.264290  \n",
       "3  10640.322830  \n",
       "4  10531.051761  "
      ]
     },
     "execution_count": 20,
     "metadata": {},
     "output_type": "execute_result"
    }
   ],
   "source": [
    "# Verify dataset\n",
    "df_final.head()"
   ]
  },
  {
   "cell_type": "code",
   "execution_count": 21,
   "metadata": {},
   "outputs": [],
   "source": [
    "# Drop sales data as this will be the predicted column by the data\n",
    "df_final.drop(columns = 'Sales', inplace = True)"
   ]
  },
  {
   "cell_type": "code",
   "execution_count": 22,
   "metadata": {},
   "outputs": [
    {
     "data": {
      "text/plain": [
       "StandardScaler(copy=True, with_mean=True, with_std=True)"
      ]
     },
     "execution_count": 22,
     "metadata": {},
     "output_type": "execute_result"
    }
   ],
   "source": [
    "# Scale data\n",
    "scaler.fit(df_final)"
   ]
  },
  {
   "cell_type": "code",
   "execution_count": 23,
   "metadata": {},
   "outputs": [],
   "source": [
    "# Fit Scaler\n",
    "df_final_scaled = scaler.transform(df_final)"
   ]
  },
  {
   "cell_type": "code",
   "execution_count": 24,
   "metadata": {},
   "outputs": [],
   "source": [
    "# Predict data with Random Forest model\n",
    "y_pred = Model2.predict(df_final_scaled)"
   ]
  },
  {
   "cell_type": "code",
   "execution_count": 25,
   "metadata": {},
   "outputs": [
    {
     "data": {
      "text/plain": [
       "array([ 2986.17693331, 15722.28059309,  7313.26429038, 10599.27187141,\n",
       "       10515.15726756,  7563.58767035,  6322.81663999,  7717.21753755,\n",
       "       11962.27405916, 11827.77902696, 11098.62336745,  7420.51915837,\n",
       "       15514.70816772,  4518.22470307,  2894.58882902,  8961.58641765,\n",
       "        9750.93579309, 10042.69195306, 13653.86292716,  6779.70108323,\n",
       "        2870.46456456,  7330.2469734 , 10506.18263377,  8640.16113807,\n",
       "        7713.22024901,  7391.96956734,  2219.43207321, 12090.72146542,\n",
       "        9297.17817199,  2662.33112376,  4928.3657547 ,  7122.92432097,\n",
       "        3149.45488552, 12194.41816005,  6407.78820161,  2568.27092986,\n",
       "        5601.70606185,  7393.0817318 , 10874.37609895, 15338.67709664,\n",
       "        7635.87408606,  8424.18971533, 11932.38243309, 14640.68144182,\n",
       "        4874.34087148, 10983.32287724,  6170.21512768, 15547.71388327,\n",
       "        8605.49011481,  6171.54193135,  7110.01955097, 11412.96753709,\n",
       "        7361.99895657, 11544.29710197,  7241.8938291 ,  5052.7448202 ,\n",
       "        9046.44227778, 10758.60176741,  9242.8320447 , 11361.35409084,\n",
       "       10196.86896466,  8675.89396979, 10145.89728954, 12107.64818701,\n",
       "        5210.55788326,  4795.32863456,  9943.15204816,  3574.87856701,\n",
       "        6446.64258747, 10817.10899705,  5254.25710847,  5039.49705294,\n",
       "        4425.12860442,  4035.60789441,  9343.96427917,  6883.17649119,\n",
       "        8521.74655093,  4514.70768082,  3827.59993599,  7380.15293053,\n",
       "        8873.59543177, 13280.74406621,  9220.43994571, 11136.22379225,\n",
       "       12641.22088303,  2621.65576278,  2683.19258788,  3842.79413784,\n",
       "       10714.45869295,  6401.36211586,  9535.4100251 ,  4927.73454125,\n",
       "        8026.60269449,  9261.46849189, 12086.66838491,  6061.9553483 ,\n",
       "       12433.82304472,  9477.92141727,  7194.78907861,  7407.78047936,\n",
       "        4016.48895226,  6550.64489317,  9681.90286207,  7182.88789088,\n",
       "        7403.65703496,  9388.04397774,  4525.93157787,  2261.27149676,\n",
       "        7393.41962071])"
      ]
     },
     "execution_count": 25,
     "metadata": {},
     "output_type": "execute_result"
    }
   ],
   "source": [
    "# Ensure predictions make sense\n",
    "y_pred"
   ]
  },
  {
   "cell_type": "code",
   "execution_count": 26,
   "metadata": {},
   "outputs": [],
   "source": [
    "# Add predicted data to final dataset\n",
    "df_final['Sales'] = y_pred"
   ]
  },
  {
   "cell_type": "code",
   "execution_count": 27,
   "metadata": {},
   "outputs": [
    {
     "data": {
      "text/plain": [
       "9681.902862     1\n",
       "9943.152048     1\n",
       "6779.701083     1\n",
       "6171.541931     1\n",
       "8961.586418     1\n",
       "               ..\n",
       "14640.681442    1\n",
       "8605.490115     1\n",
       "2568.270930     1\n",
       "7110.019551     1\n",
       "7420.519158     1\n",
       "Name: Sales, Length: 109, dtype: int64"
      ]
     },
     "execution_count": 27,
     "metadata": {},
     "output_type": "execute_result"
    }
   ],
   "source": [
    "# Verify few if any duplicate predicted values\n",
    "df_final['Sales'].value_counts()"
   ]
  },
  {
   "cell_type": "code",
   "execution_count": 28,
   "metadata": {},
   "outputs": [
    {
     "data": {
      "text/html": [
       "<div>\n",
       "<style scoped>\n",
       "    .dataframe tbody tr th:only-of-type {\n",
       "        vertical-align: middle;\n",
       "    }\n",
       "\n",
       "    .dataframe tbody tr th {\n",
       "        vertical-align: top;\n",
       "    }\n",
       "\n",
       "    .dataframe thead th {\n",
       "        text-align: right;\n",
       "    }\n",
       "</style>\n",
       "<table border=\"1\" class=\"dataframe\">\n",
       "  <thead>\n",
       "    <tr style=\"text-align: right;\">\n",
       "      <th></th>\n",
       "      <th>Price_Each</th>\n",
       "      <th>Sales_PQ</th>\n",
       "      <th>MSRP</th>\n",
       "      <th>1</th>\n",
       "      <th>2</th>\n",
       "      <th>3</th>\n",
       "      <th>4</th>\n",
       "      <th>2003</th>\n",
       "      <th>2004</th>\n",
       "      <th>2005</th>\n",
       "      <th>Classic Cars</th>\n",
       "      <th>Motorcycles</th>\n",
       "      <th>Planes</th>\n",
       "      <th>Ships</th>\n",
       "      <th>Trains</th>\n",
       "      <th>Trucks and Buses</th>\n",
       "      <th>Vintage Cars</th>\n",
       "      <th>Sales</th>\n",
       "    </tr>\n",
       "  </thead>\n",
       "  <tbody>\n",
       "    <tr>\n",
       "      <th>0</th>\n",
       "      <td>55.635000</td>\n",
       "      <td>3940.23</td>\n",
       "      <td>95</td>\n",
       "      <td>0</td>\n",
       "      <td>1</td>\n",
       "      <td>0</td>\n",
       "      <td>0</td>\n",
       "      <td>0</td>\n",
       "      <td>0</td>\n",
       "      <td>1</td>\n",
       "      <td>0</td>\n",
       "      <td>1</td>\n",
       "      <td>0</td>\n",
       "      <td>0</td>\n",
       "      <td>0</td>\n",
       "      <td>0</td>\n",
       "      <td>0</td>\n",
       "      <td>2986.176933</td>\n",
       "    </tr>\n",
       "    <tr>\n",
       "      <th>1</th>\n",
       "      <td>146.703333</td>\n",
       "      <td>15186.28</td>\n",
       "      <td>214</td>\n",
       "      <td>0</td>\n",
       "      <td>1</td>\n",
       "      <td>0</td>\n",
       "      <td>0</td>\n",
       "      <td>0</td>\n",
       "      <td>0</td>\n",
       "      <td>1</td>\n",
       "      <td>1</td>\n",
       "      <td>0</td>\n",
       "      <td>0</td>\n",
       "      <td>0</td>\n",
       "      <td>0</td>\n",
       "      <td>0</td>\n",
       "      <td>0</td>\n",
       "      <td>15722.280593</td>\n",
       "    </tr>\n",
       "    <tr>\n",
       "      <th>2</th>\n",
       "      <td>90.050000</td>\n",
       "      <td>7513.51</td>\n",
       "      <td>118</td>\n",
       "      <td>0</td>\n",
       "      <td>1</td>\n",
       "      <td>0</td>\n",
       "      <td>0</td>\n",
       "      <td>0</td>\n",
       "      <td>0</td>\n",
       "      <td>1</td>\n",
       "      <td>0</td>\n",
       "      <td>1</td>\n",
       "      <td>0</td>\n",
       "      <td>0</td>\n",
       "      <td>0</td>\n",
       "      <td>0</td>\n",
       "      <td>0</td>\n",
       "      <td>7313.264290</td>\n",
       "    </tr>\n",
       "    <tr>\n",
       "      <th>3</th>\n",
       "      <td>142.536667</td>\n",
       "      <td>9320.65</td>\n",
       "      <td>193</td>\n",
       "      <td>0</td>\n",
       "      <td>1</td>\n",
       "      <td>0</td>\n",
       "      <td>0</td>\n",
       "      <td>0</td>\n",
       "      <td>0</td>\n",
       "      <td>1</td>\n",
       "      <td>0</td>\n",
       "      <td>1</td>\n",
       "      <td>0</td>\n",
       "      <td>0</td>\n",
       "      <td>0</td>\n",
       "      <td>0</td>\n",
       "      <td>0</td>\n",
       "      <td>10599.271871</td>\n",
       "    </tr>\n",
       "    <tr>\n",
       "      <th>4</th>\n",
       "      <td>117.210000</td>\n",
       "      <td>12263.51</td>\n",
       "      <td>136</td>\n",
       "      <td>0</td>\n",
       "      <td>1</td>\n",
       "      <td>0</td>\n",
       "      <td>0</td>\n",
       "      <td>0</td>\n",
       "      <td>0</td>\n",
       "      <td>1</td>\n",
       "      <td>1</td>\n",
       "      <td>0</td>\n",
       "      <td>0</td>\n",
       "      <td>0</td>\n",
       "      <td>0</td>\n",
       "      <td>0</td>\n",
       "      <td>0</td>\n",
       "      <td>10515.157268</td>\n",
       "    </tr>\n",
       "  </tbody>\n",
       "</table>\n",
       "</div>"
      ],
      "text/plain": [
       "   Price_Each  Sales_PQ  MSRP  1  2  3  4  2003  2004  2005  Classic Cars  \\\n",
       "0   55.635000   3940.23    95  0  1  0  0     0     0     1             0   \n",
       "1  146.703333  15186.28   214  0  1  0  0     0     0     1             1   \n",
       "2   90.050000   7513.51   118  0  1  0  0     0     0     1             0   \n",
       "3  142.536667   9320.65   193  0  1  0  0     0     0     1             0   \n",
       "4  117.210000  12263.51   136  0  1  0  0     0     0     1             1   \n",
       "\n",
       "   Motorcycles  Planes  Ships  Trains  Trucks and Buses  Vintage Cars  \\\n",
       "0            1       0      0       0                 0             0   \n",
       "1            0       0      0       0                 0             0   \n",
       "2            1       0      0       0                 0             0   \n",
       "3            1       0      0       0                 0             0   \n",
       "4            0       0      0       0                 0             0   \n",
       "\n",
       "          Sales  \n",
       "0   2986.176933  \n",
       "1  15722.280593  \n",
       "2   7313.264290  \n",
       "3  10599.271871  \n",
       "4  10515.157268  "
      ]
     },
     "execution_count": 28,
     "metadata": {},
     "output_type": "execute_result"
    }
   ],
   "source": [
    "# Verify new column has been added\n",
    "df_final.head()"
   ]
  },
  {
   "cell_type": "code",
   "execution_count": 29,
   "metadata": {},
   "outputs": [
    {
     "data": {
      "text/plain": [
       "Sales               15722.280593\n",
       "Sales_PQ            15186.280000\n",
       "MSRP                  214.000000\n",
       "Price_Each            146.703333\n",
       "2                       1.000000\n",
       "Classic Cars            1.000000\n",
       "2005                    1.000000\n",
       "3                       0.000000\n",
       "4                       0.000000\n",
       "2003                    0.000000\n",
       "2004                    0.000000\n",
       "1                       0.000000\n",
       "Motorcycles             0.000000\n",
       "Planes                  0.000000\n",
       "Ships                   0.000000\n",
       "Trains                  0.000000\n",
       "Trucks and Buses        0.000000\n",
       "Vintage Cars            0.000000\n",
       "Name: 1, dtype: float64"
      ]
     },
     "execution_count": 29,
     "metadata": {},
     "output_type": "execute_result"
    }
   ],
   "source": [
    "# Identify highest Sales figure and index\n",
    "df_final.loc[df_final['Sales'].idxmax()].sort_values(ascending = False)"
   ]
  },
  {
   "cell_type": "code",
   "execution_count": 30,
   "metadata": {},
   "outputs": [
    {
     "data": {
      "text/plain": [
       "Year_ID                 2005\n",
       "QTR_ID                     1\n",
       "Product_Code        S10_1949\n",
       "Price_Each        146.703333\n",
       "Sales           15186.280000\n",
       "MSRP                     214\n",
       "Product_Line    Classic Cars\n",
       "Sales_PQ        40436.340000\n",
       "Name: 759, dtype: object"
      ]
     },
     "execution_count": 30,
     "metadata": {},
     "output_type": "execute_result"
    }
   ],
   "source": [
    "# Use original aggregated dataframe to find product code\n",
    "df_agg.iloc[759, :]"
   ]
  },
  {
   "cell_type": "markdown",
   "metadata": {},
   "source": [
    "Here is the answer to our initial problem which was to find the product code that will generate the most revenue next quarter. The model provided one code, S10_1949, as the one with the maximum revenue. Therefore, I would recommend focusing the most marketing and production efforts on this product to maximize quarter revenue for 2005 Quarter 2"
   ]
  },
  {
   "cell_type": "markdown",
   "metadata": {},
   "source": [
    "### Further Model Use"
   ]
  },
  {
   "cell_type": "markdown",
   "metadata": {},
   "source": [
    "This model can easily be used to predict future data by following the process shown above with new data. For best results I would recommend loading as much historical data as is available to improve performance before running. This model performs well at predicting the top product by revenue as observed by the r-squared of 0.8242"
   ]
  }
 ],
 "metadata": {
  "kernelspec": {
   "display_name": "Python 3",
   "language": "python",
   "name": "python3"
  },
  "language_info": {
   "codemirror_mode": {
    "name": "ipython",
    "version": 3
   },
   "file_extension": ".py",
   "mimetype": "text/x-python",
   "name": "python",
   "nbconvert_exporter": "python",
   "pygments_lexer": "ipython3",
   "version": "3.7.6"
  }
 },
 "nbformat": 4,
 "nbformat_minor": 4
}
